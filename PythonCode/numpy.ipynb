{
 "cells": [
  {
   "cell_type": "code",
   "execution_count": 1,
   "id": "986288e0",
   "metadata": {},
   "outputs": [],
   "source": [
    "import numpy as np"
   ]
  },
  {
   "cell_type": "markdown",
   "id": "22b6c06c",
   "metadata": {},
   "source": [
    "## numpy的核心array \n",
    "\n",
    "* array本身的属性\n",
    "\n",
    "  * shape：array各个维度的长度，返回的是一个元组\n",
    "\n",
    "  * ndim：一个数字，表示array的维度的数目，即有几维\n",
    "\n",
    "  * size：一个数字，表示array中所有数据元素的数目\n",
    "\n",
    "  * dtype：array中元素的数据类型\n",
    "\n",
    "* array本身支持的大量操作和函数\n",
    "\n",
    "  * 直接逐元素的加减乘除等操作\n",
    "\n",
    "  * 更好的面向多维的数组索引\n",
    "\n",
    "  * 求sum/mean等聚合函数\n",
    "\n",
    "  * 线性代数函数，比如求解逆矩阵、求解方程组"
   ]
  },
  {
   "cell_type": "markdown",
   "id": "bca66c5a",
   "metadata": {},
   "source": [
    "## 创建array的方法\n",
    "\n",
    "* 从python的列表和嵌套列表创建array\n",
    "* 使用预定函数arange、ones/ones_like、zeros/zeros_like、empty/empty_like、full/full_like、eye等函数创建\n",
    "* 生成随机数的np.random模块构建"
   ]
  },
  {
   "cell_type": "markdown",
   "id": "472c7744",
   "metadata": {},
   "source": [
    "### 1.使用列表和嵌套列表创建"
   ]
  },
  {
   "cell_type": "code",
   "execution_count": 2,
   "id": "deea56f7",
   "metadata": {},
   "outputs": [
    {
     "data": {
      "text/plain": [
       "array([1, 2, 3, 4, 5, 6, 7, 8, 9])"
      ]
     },
     "execution_count": 2,
     "metadata": {},
     "output_type": "execute_result"
    }
   ],
   "source": [
    "# 创建一个一维数组\n",
    "x = np.array([1,2,3,4,5,6,7,8,9])\n",
    "x"
   ]
  },
  {
   "cell_type": "code",
   "execution_count": 3,
   "id": "f5cad2c4",
   "metadata": {},
   "outputs": [
    {
     "data": {
      "text/plain": [
       "array([[1, 2, 3],\n",
       "       [6, 7, 8]])"
      ]
     },
     "execution_count": 3,
     "metadata": {},
     "output_type": "execute_result"
    }
   ],
   "source": [
    "# 创建一个二维数组\n",
    "X = np.array(\n",
    "    [\n",
    "        [1,2,3],\n",
    "        [6,7,8]\n",
    "    ]\n",
    ")\n",
    "X"
   ]
  },
  {
   "cell_type": "markdown",
   "id": "bf94705b",
   "metadata": {},
   "source": [
    "### 2.探索数组array的属性"
   ]
  },
  {
   "cell_type": "code",
   "execution_count": 4,
   "id": "5a13e710",
   "metadata": {},
   "outputs": [
    {
     "data": {
      "text/plain": [
       "(9,)"
      ]
     },
     "execution_count": 4,
     "metadata": {},
     "output_type": "execute_result"
    }
   ],
   "source": [
    "# 返回元组，各个维度的长度\n",
    "x.shape"
   ]
  },
  {
   "cell_type": "code",
   "execution_count": 5,
   "id": "17f26eb2",
   "metadata": {},
   "outputs": [
    {
     "data": {
      "text/plain": [
       "(2, 3)"
      ]
     },
     "execution_count": 5,
     "metadata": {},
     "output_type": "execute_result"
    }
   ],
   "source": [
    "# 返回元组，各个维度的长度\n",
    "X.shape"
   ]
  },
  {
   "cell_type": "code",
   "execution_count": 6,
   "id": "eda680aa",
   "metadata": {},
   "outputs": [
    {
     "data": {
      "text/plain": [
       "1"
      ]
     },
     "execution_count": 6,
     "metadata": {},
     "output_type": "execute_result"
    }
   ],
   "source": [
    "# 返回维度值\n",
    "x.ndim"
   ]
  },
  {
   "cell_type": "code",
   "execution_count": 7,
   "id": "f154c726",
   "metadata": {},
   "outputs": [
    {
     "data": {
      "text/plain": [
       "2"
      ]
     },
     "execution_count": 7,
     "metadata": {},
     "output_type": "execute_result"
    }
   ],
   "source": [
    "# 返回维度值\n",
    "X.ndim"
   ]
  },
  {
   "cell_type": "code",
   "execution_count": 8,
   "id": "36947389",
   "metadata": {},
   "outputs": [
    {
     "data": {
      "text/plain": [
       "9"
      ]
     },
     "execution_count": 8,
     "metadata": {},
     "output_type": "execute_result"
    }
   ],
   "source": [
    "# 返回元素个数\n",
    "x.size"
   ]
  },
  {
   "cell_type": "code",
   "execution_count": 9,
   "id": "babb6ff1",
   "metadata": {},
   "outputs": [
    {
     "data": {
      "text/plain": [
       "6"
      ]
     },
     "execution_count": 9,
     "metadata": {},
     "output_type": "execute_result"
    }
   ],
   "source": [
    "# 返回元素个数\n",
    "X.size"
   ]
  },
  {
   "cell_type": "code",
   "execution_count": 10,
   "id": "4f6ef5a0",
   "metadata": {},
   "outputs": [
    {
     "data": {
      "text/plain": [
       "dtype('int32')"
      ]
     },
     "execution_count": 10,
     "metadata": {},
     "output_type": "execute_result"
    }
   ],
   "source": [
    "# array中元素的数据类型\n",
    "x.dtype"
   ]
  },
  {
   "cell_type": "code",
   "execution_count": 11,
   "id": "aad5b540",
   "metadata": {},
   "outputs": [
    {
     "data": {
      "text/plain": [
       "dtype('int32')"
      ]
     },
     "execution_count": 11,
     "metadata": {},
     "output_type": "execute_result"
    }
   ],
   "source": [
    "# array中元素的数据类型\n",
    "X.dtype"
   ]
  },
  {
   "cell_type": "markdown",
   "id": "4e943a92",
   "metadata": {},
   "source": [
    "### 3.创建array的便捷函数"
   ]
  },
  {
   "cell_type": "markdown",
   "id": "084e26e1",
   "metadata": {},
   "source": [
    "1. 使用arange创建数字序列\n",
    "\n",
    "    * arange([start,] stop[,step], dtype=None)"
   ]
  },
  {
   "cell_type": "code",
   "execution_count": 12,
   "id": "3f78b6b7",
   "metadata": {},
   "outputs": [
    {
     "name": "stdout",
     "output_type": "stream",
     "text": [
      "[0 1 2 3 4 5 6 7 8 9]\n",
      "[0 1 2 3 4 5 6 7 8 9]\n",
      "[1 2 3 4 5 6 7 8 9]\n",
      "[0 2 4 6 8]\n"
     ]
    }
   ],
   "source": [
    "print(np.arange(10))\n",
    "print(np.arange(0, 10))\n",
    "print(np.arange(1, 10))\n",
    "print(np.arange(0, 10, 2))"
   ]
  },
  {
   "cell_type": "markdown",
   "id": "e29a41b2",
   "metadata": {},
   "source": [
    "2. 使用ones创建全是1的数组\n",
    "\n",
    "    * np.ones(shape, dtype=None, order='C')\n",
    "    * shape: int or tuple of ints Shape of the new array, e.g.(2, 3) or 2."
   ]
  },
  {
   "cell_type": "code",
   "execution_count": 13,
   "id": "2a6ded05",
   "metadata": {},
   "outputs": [
    {
     "name": "stdout",
     "output_type": "stream",
     "text": [
      "[[1. 1. 1.]\n",
      " [1. 1. 1.]]\n",
      "[1. 1. 1. 1. 1. 1. 1. 1. 1. 1.]\n"
     ]
    }
   ],
   "source": [
    "print(np.ones((2,3)))\n",
    "print(np.ones(10))"
   ]
  },
  {
   "cell_type": "markdown",
   "id": "60f09549",
   "metadata": {},
   "source": [
    "3. 使用ones_like创建形状相同的数组\n",
    "\n",
    "    * ones_like(a, dtype=float, order='C')"
   ]
  },
  {
   "cell_type": "code",
   "execution_count": 14,
   "id": "b7321130",
   "metadata": {},
   "outputs": [
    {
     "name": "stdout",
     "output_type": "stream",
     "text": [
      "(2, 3)\n",
      "[[1 1 1]\n",
      " [1 1 1]]\n"
     ]
    }
   ],
   "source": [
    "print(X.shape)\n",
    "print(np.ones_like(X))"
   ]
  },
  {
   "cell_type": "markdown",
   "id": "c1f75cff",
   "metadata": {},
   "source": [
    "4. 使用zeros创建全是0的数组\n",
    "\n",
    "    * np.zeros(shape, dtype=None, order='C')"
   ]
  },
  {
   "cell_type": "code",
   "execution_count": 15,
   "id": "f9eb4ef0",
   "metadata": {},
   "outputs": [
    {
     "name": "stdout",
     "output_type": "stream",
     "text": [
      "[[0. 0. 0. 0.]\n",
      " [0. 0. 0. 0.]]\n"
     ]
    }
   ],
   "source": [
    "print(np.zeros((2, 4)))"
   ]
  },
  {
   "cell_type": "markdown",
   "id": "1757b0cd",
   "metadata": {},
   "source": [
    "5. 使用zeros_like创建形状相同的数组\n",
    "\n",
    "    * np.zeros_like(a, dtype=float, order='C')"
   ]
  },
  {
   "cell_type": "code",
   "execution_count": 16,
   "id": "d9c6edce",
   "metadata": {},
   "outputs": [
    {
     "name": "stdout",
     "output_type": "stream",
     "text": [
      "(2, 3)\n",
      "[[0 0 0]\n",
      " [0 0 0]]\n"
     ]
    }
   ],
   "source": [
    "print(X.shape)\n",
    "print(np.zeros_like(X))"
   ]
  },
  {
   "cell_type": "markdown",
   "id": "9d473e10",
   "metadata": {},
   "source": [
    "6. 使用empty创建全是0的数组\n",
    "\n",
    "    * empty(shape, dtype=float, order='C')\n",
    "    \n",
    "    **注意：数据是未初始化的，里面的值可能是随机值**"
   ]
  },
  {
   "cell_type": "code",
   "execution_count": 17,
   "id": "bfbe25ba",
   "metadata": {},
   "outputs": [
    {
     "name": "stdout",
     "output_type": "stream",
     "text": [
      "[1. 1. 1. 1. 1. 1. 1. 1. 1. 1.]\n",
      "[[1.08309285e-311 2.47032823e-322 0.00000000e+000 0.00000000e+000]\n",
      " [1.42413554e-306 1.61590357e+184 7.42883814e-091 3.93892925e-062]\n",
      " [2.38145811e+179 9.50598106e+169 3.99910963e+252 2.69817909e+184]]\n"
     ]
    }
   ],
   "source": [
    "print(np.empty(10))\n",
    "print(np.empty((3,4)))"
   ]
  },
  {
   "cell_type": "markdown",
   "id": "674b44df",
   "metadata": {},
   "source": [
    "7. 使用empty_like创建形状相同的数组\n",
    "\n",
    "    * empty_like(prototype, dtype=None"
   ]
  },
  {
   "cell_type": "code",
   "execution_count": 18,
   "id": "f2c601fa",
   "metadata": {
    "scrolled": true
   },
   "outputs": [
    {
     "data": {
      "text/plain": [
       "array([[0, 0, 0],\n",
       "       [0, 0, 0]])"
      ]
     },
     "execution_count": 18,
     "metadata": {},
     "output_type": "execute_result"
    }
   ],
   "source": [
    "np.empty_like(X)"
   ]
  },
  {
   "cell_type": "markdown",
   "id": "9a8f24c3",
   "metadata": {},
   "source": [
    "8. 使用full创建指定值的数组\n",
    "\n",
    "    * np.full(shape, fill_value, dtype=None, order='C')"
   ]
  },
  {
   "cell_type": "code",
   "execution_count": 19,
   "id": "58b72691",
   "metadata": {},
   "outputs": [
    {
     "data": {
      "text/plain": [
       "array([666, 666, 666, 666, 666, 666, 666, 666, 666, 666])"
      ]
     },
     "execution_count": 19,
     "metadata": {},
     "output_type": "execute_result"
    }
   ],
   "source": [
    "np.full(10, 666)"
   ]
  },
  {
   "cell_type": "code",
   "execution_count": 20,
   "id": "1359b55f",
   "metadata": {},
   "outputs": [
    {
     "data": {
      "text/plain": [
       "array([[333, 333, 333, 333],\n",
       "       [333, 333, 333, 333]])"
      ]
     },
     "execution_count": 20,
     "metadata": {},
     "output_type": "execute_result"
    }
   ],
   "source": [
    "np.full((2,4), 333)"
   ]
  },
  {
   "cell_type": "markdown",
   "id": "e1c37449",
   "metadata": {},
   "source": [
    "9. 使用full_like创建形状相同的数组\n",
    "\n",
    "    * np.full_like(a, fill_value, dtype=None)"
   ]
  },
  {
   "cell_type": "code",
   "execution_count": 21,
   "id": "09b93c35",
   "metadata": {},
   "outputs": [
    {
     "data": {
      "text/plain": [
       "array([[888, 888, 888],\n",
       "       [888, 888, 888]])"
      ]
     },
     "execution_count": 21,
     "metadata": {},
     "output_type": "execute_result"
    }
   ],
   "source": [
    "np.full_like(X, 888)"
   ]
  },
  {
   "cell_type": "markdown",
   "id": "f448806c",
   "metadata": {},
   "source": [
    "10. 使用random模块生成随机数的数组\n",
    "\n",
    "    * randn(d0, d1, ..., dn)"
   ]
  },
  {
   "cell_type": "code",
   "execution_count": 22,
   "id": "49b9fbeb",
   "metadata": {},
   "outputs": [
    {
     "data": {
      "text/plain": [
       "-0.48404682315653524"
      ]
     },
     "execution_count": 22,
     "metadata": {},
     "output_type": "execute_result"
    }
   ],
   "source": [
    "np.random.randn()"
   ]
  },
  {
   "cell_type": "code",
   "execution_count": 23,
   "id": "8c9a49cf",
   "metadata": {},
   "outputs": [
    {
     "data": {
      "text/plain": [
       "array([-1.11271287, -0.75270753, -1.00213555])"
      ]
     },
     "execution_count": 23,
     "metadata": {},
     "output_type": "execute_result"
    }
   ],
   "source": [
    "np.random.randn(3)"
   ]
  },
  {
   "cell_type": "code",
   "execution_count": 24,
   "id": "8d4823a9",
   "metadata": {},
   "outputs": [
    {
     "data": {
      "text/plain": [
       "array([[-1.87843828,  0.19249163],\n",
       "       [-1.34098725,  2.57404951],\n",
       "       [ 0.75630435,  0.56582826]])"
      ]
     },
     "execution_count": 24,
     "metadata": {},
     "output_type": "execute_result"
    }
   ],
   "source": [
    "np.random.randn(3,2)"
   ]
  },
  {
   "cell_type": "code",
   "execution_count": 25,
   "id": "96da7d8c",
   "metadata": {},
   "outputs": [
    {
     "data": {
      "text/plain": [
       "array([[[ 0.31964515,  1.49995594, -0.74978324, -2.54820092],\n",
       "        [-1.8705155 , -0.77209871,  2.02695423,  0.17736428]],\n",
       "\n",
       "       [[ 0.0713494 ,  0.44402844,  0.27918514, -0.14591187],\n",
       "        [ 0.84924725, -0.16524204,  0.47679674,  2.23263787]],\n",
       "\n",
       "       [[-0.3051885 ,  0.72560845,  0.37510042, -1.15063418],\n",
       "        [-0.28971971, -0.66675259, -0.25579504,  0.36501512]]])"
      ]
     },
     "execution_count": 25,
     "metadata": {},
     "output_type": "execute_result"
    }
   ],
   "source": [
    "np.random.randn(3, 2, 4)"
   ]
  },
  {
   "cell_type": "markdown",
   "id": "0c614b86",
   "metadata": {},
   "source": [
    "### 4.array本身支持的大量操作和函数"
   ]
  },
  {
   "cell_type": "code",
   "execution_count": 26,
   "id": "67c78302",
   "metadata": {},
   "outputs": [
    {
     "data": {
      "text/plain": [
       "array([[0, 1, 2, 3, 4],\n",
       "       [5, 6, 7, 8, 9]])"
      ]
     },
     "execution_count": 26,
     "metadata": {},
     "output_type": "execute_result"
    }
   ],
   "source": [
    "A = np.arange(10).reshape(2, 5)\n",
    "A"
   ]
  },
  {
   "cell_type": "code",
   "execution_count": 27,
   "id": "f021e3c0",
   "metadata": {},
   "outputs": [
    {
     "data": {
      "text/plain": [
       "(2, 5)"
      ]
     },
     "execution_count": 27,
     "metadata": {},
     "output_type": "execute_result"
    }
   ],
   "source": [
    "A.shape"
   ]
  },
  {
   "cell_type": "code",
   "execution_count": 28,
   "id": "a436822e",
   "metadata": {},
   "outputs": [
    {
     "data": {
      "text/plain": [
       "array([[ 1,  2,  3,  4,  5],\n",
       "       [ 6,  7,  8,  9, 10]])"
      ]
     },
     "execution_count": 28,
     "metadata": {},
     "output_type": "execute_result"
    }
   ],
   "source": [
    "A+1"
   ]
  },
  {
   "cell_type": "code",
   "execution_count": 29,
   "id": "1cc18b77",
   "metadata": {},
   "outputs": [
    {
     "data": {
      "text/plain": [
       "array([[ 0,  3,  6,  9, 12],\n",
       "       [15, 18, 21, 24, 27]])"
      ]
     },
     "execution_count": 29,
     "metadata": {},
     "output_type": "execute_result"
    }
   ],
   "source": [
    "A*3"
   ]
  },
  {
   "cell_type": "code",
   "execution_count": 30,
   "id": "d8cb5f3f",
   "metadata": {},
   "outputs": [
    {
     "data": {
      "text/plain": [
       "array([[ 0.        ,  0.84147098,  0.90929743,  0.14112001, -0.7568025 ],\n",
       "       [-0.95892427, -0.2794155 ,  0.6569866 ,  0.98935825,  0.41211849]])"
      ]
     },
     "execution_count": 30,
     "metadata": {},
     "output_type": "execute_result"
    }
   ],
   "source": [
    "np.sin(A)"
   ]
  },
  {
   "cell_type": "code",
   "execution_count": 31,
   "id": "f6dbed6c",
   "metadata": {},
   "outputs": [
    {
     "data": {
      "text/plain": [
       "array([[1.00000000e+00, 2.71828183e+00, 7.38905610e+00, 2.00855369e+01,\n",
       "        5.45981500e+01],\n",
       "       [1.48413159e+02, 4.03428793e+02, 1.09663316e+03, 2.98095799e+03,\n",
       "        8.10308393e+03]])"
      ]
     },
     "execution_count": 31,
     "metadata": {},
     "output_type": "execute_result"
    }
   ],
   "source": [
    "np.exp(A)"
   ]
  },
  {
   "cell_type": "code",
   "execution_count": 32,
   "id": "f940f776",
   "metadata": {},
   "outputs": [
    {
     "data": {
      "text/plain": [
       "array([[-0.16080942, -1.141154  ,  1.44880369, -2.21477453,  0.1455452 ],\n",
       "       [-0.08922669, -0.40262265, -1.16051183, -0.65841758, -0.71952152]])"
      ]
     },
     "execution_count": 32,
     "metadata": {},
     "output_type": "execute_result"
    }
   ],
   "source": [
    "B = np.random.randn(2, 5)\n",
    "B"
   ]
  },
  {
   "cell_type": "code",
   "execution_count": 33,
   "id": "e5126c68",
   "metadata": {},
   "outputs": [
    {
     "data": {
      "text/plain": [
       "array([[-0.16080942, -0.141154  ,  3.44880369,  0.78522547,  4.1455452 ],\n",
       "       [ 4.91077331,  5.59737735,  5.83948817,  7.34158242,  8.28047848]])"
      ]
     },
     "execution_count": 33,
     "metadata": {},
     "output_type": "execute_result"
    }
   ],
   "source": [
    "A+B"
   ]
  },
  {
   "cell_type": "code",
   "execution_count": 34,
   "id": "e679cca7",
   "metadata": {},
   "outputs": [
    {
     "data": {
      "text/plain": [
       "array([[0.16080942, 2.141154  , 0.55119631, 5.21477453, 3.8544548 ],\n",
       "       [5.08922669, 6.40262265, 8.16051183, 8.65841758, 9.71952152]])"
      ]
     },
     "execution_count": 34,
     "metadata": {},
     "output_type": "execute_result"
    }
   ],
   "source": [
    "A-B"
   ]
  },
  {
   "cell_type": "code",
   "execution_count": null,
   "id": "93cba209",
   "metadata": {},
   "outputs": [],
   "source": []
  },
  {
   "cell_type": "code",
   "execution_count": null,
   "id": "4e386e2f",
   "metadata": {},
   "outputs": [],
   "source": []
  },
  {
   "cell_type": "code",
   "execution_count": null,
   "id": "870090f6",
   "metadata": {},
   "outputs": [],
   "source": []
  }
 ],
 "metadata": {
  "kernelspec": {
   "display_name": "normal",
   "language": "python",
   "name": "normal"
  },
  "language_info": {
   "codemirror_mode": {
    "name": "ipython",
    "version": 3
   },
   "file_extension": ".py",
   "mimetype": "text/x-python",
   "name": "python",
   "nbconvert_exporter": "python",
   "pygments_lexer": "ipython3",
   "version": "3.10.13"
  }
 },
 "nbformat": 4,
 "nbformat_minor": 5
}
